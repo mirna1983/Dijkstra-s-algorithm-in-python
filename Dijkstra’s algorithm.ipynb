{
 "cells": [
  {
   "cell_type": "code",
   "execution_count": 18,
   "id": "80cd27c2",
   "metadata": {},
   "outputs": [
    {
     "name": "stdout",
     "output_type": "stream",
     "text": [
      "{'A': 0, 'B': 2, 'C': 3, 'D': 4}\n"
     ]
    }
   ],
   "source": [
    "import heapq\n",
    "\n",
    "def calculate_shortest_distances(g, S):\n",
    "    distances = {vertex: float('infinity') for vertex in g}\n",
    "    distances[S] = 0\n",
    "\n",
    "    pq = [(0, S)]\n",
    "    while len(pq) > 0:\n",
    "        current_distance, current_vertex = heapq.heappop(pq)\n",
    "\n",
    "        # Multiple times, nodes can be added to the priority queue. We're only interested in\n",
    "        # We remove a vertex from the priority queue the first time we process it.\n",
    "        if current_distance > distances[current_vertex]:\n",
    "            continue\n",
    "\n",
    "        for next, weight in g[current_vertex].items():\n",
    "            distance = current_distance + weight\n",
    "\n",
    "            # Only examine this new road if it is superior to the ones we've already taken.\n",
    "            # already found.\n",
    "            if distance < distances[next]:\n",
    "                distances[next] = distance\n",
    "                heapq.heappush(pq, (distance, next))\n",
    "\n",
    "    return distances\n",
    "strongGraph={\n",
    "    \"A\":{\"B\":2,\"C\":7,\"D\":5},\n",
    "    \"B\":{\"C\":1},\n",
    "    \"C\":{\"D\":1},\n",
    "    \"D\":{\"B\":2}\n",
    "}\n",
    "\n",
    "print(calculate_shortest_distances(strongGraph, \"A\"))"
   ]
  },
  {
   "cell_type": "code",
   "execution_count": null,
   "id": "50ad2b76",
   "metadata": {},
   "outputs": [],
   "source": []
  }
 ],
 "metadata": {
  "kernelspec": {
   "display_name": "Python 3",
   "language": "python",
   "name": "python3"
  },
  "language_info": {
   "codemirror_mode": {
    "name": "ipython",
    "version": 3
   },
   "file_extension": ".py",
   "mimetype": "text/x-python",
   "name": "python",
   "nbconvert_exporter": "python",
   "pygments_lexer": "ipython3",
   "version": "3.8.8"
  }
 },
 "nbformat": 4,
 "nbformat_minor": 5
}
